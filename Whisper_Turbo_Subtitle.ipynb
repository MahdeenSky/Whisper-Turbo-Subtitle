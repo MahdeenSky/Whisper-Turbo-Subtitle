{
  "nbformat": 4,
  "nbformat_minor": 0,
  "metadata": {
    "colab": {
      "provenance": [],
      "gpuType": "T4"
    },
    "kernelspec": {
      "name": "python3",
      "display_name": "Python 3"
    },
    "language_info": {
      "name": "python"
    },
    "accelerator": "GPU"
  },
  "cells": [
    {
      "cell_type": "code",
      "execution_count": null,
      "metadata": {
        "id": "7p4rTbS6kxIo"
      },
      "outputs": [],
      "source": [
        "!git clone https://github.com/NeuralFalconYT/Whisper-Turbo-Subtitle.git\n",
        "%cd Whisper-Turbo-Subtitle\n",
        "!pip install -r requirements.txt\n",
        "from IPython.display import clear_output\n",
        "clear_output()\n",
        "!python app.py --share"
      ]
    }
  ]
}