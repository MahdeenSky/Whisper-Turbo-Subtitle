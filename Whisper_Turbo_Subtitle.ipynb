{
 "cells": [
  {
   "cell_type": "code",
   "execution_count": null,
   "metadata": {
    "id": "7p4rTbS6kxIo"
   },
   "outputs": [
    {
     "name": "stdout",
     "output_type": "stream",
     "text": [
      "/home/zeus/miniconda3/envs/cloudspace/lib/python3.10/site-packages/pydub/utils.py:170: RuntimeWarning: Couldn't find ffmpeg or avconv - defaulting to ffmpeg, but may not work\n",
      "  warn(\"Couldn't find ffmpeg or avconv - defaulting to ffmpeg, but may not work\", RuntimeWarning)\n",
      "* Running on local URL:  http://127.0.0.1:7860\n",
      "* Running on public URL: https://5ce57defd64a6daae7.gradio.live\n",
      "\n",
      "This share link expires in 72 hours. For free permanent hosting and GPU upgrades, run `gradio deploy` from the terminal in the working directory to deploy to Hugging Face Spaces (https://huggingface.co/spaces)\n",
      "vocabulary.json:   0%|                              | 0.00/1.07M [00:00<?, ?B/s]\n",
      "preprocessor_config.json: 100%|████████████████| 340/340 [00:00<00:00, 2.88MB/s]\u001b[A\n",
      "\n",
      "config.json: 100%|█████████████████████████| 3.30k/3.30k [00:00<00:00, 24.7MB/s]\u001b[A\n",
      "\n",
      "vocabulary.json: 100%|█████████████████████| 1.07M/1.07M [00:00<00:00, 14.4MB/s]\u001b[A\n",
      "tokenizer.json: 100%|██████████████████████| 2.48M/2.48M [00:00<00:00, 41.9MB/s]\n",
      "model.bin: 100%|███████████████████████████| 1.62G/1.62G [00:43<00:00, 37.5MB/s]\n",
      "/bin/sh: 1: ffmpeg: not found\n"
     ]
    }
   ],
   "source": [
    "!git clone https://github.com/NeuralFalconYT/Whisper-Turbo-Subtitle.git\n",
    "%cd Whisper-Turbo-Subtitle\n",
    "!pip install -r requirements.txt\n",
    "!sudo apt install ffmpeg\n",
    "from IPython.display import clear_output\n",
    "clear_output()\n",
    "!python app.py --share"
   ]
  },
  {
   "cell_type": "code",
   "execution_count": null,
   "metadata": {},
   "outputs": [],
   "source": []
  }
 ],
 "metadata": {
  "accelerator": "GPU",
  "colab": {
   "gpuType": "T4",
   "provenance": []
  },
  "kernelspec": {
   "display_name": "Python 3",
   "language": "python",
   "name": "python3"
  },
  "language_info": {
   "codemirror_mode": {
    "name": "ipython",
    "version": 3
   },
   "file_extension": ".py",
   "mimetype": "text/x-python",
   "name": "python",
   "nbconvert_exporter": "python",
   "pygments_lexer": "ipython3",
   "version": "3.10.10"
  }
 },
 "nbformat": 4,
 "nbformat_minor": 4
}
